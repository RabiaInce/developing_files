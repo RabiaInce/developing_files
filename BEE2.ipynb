{
 "cells": [
  {
   "cell_type": "code",
   "execution_count": 33,
   "id": "5d7cabf1",
   "metadata": {},
   "outputs": [],
   "source": [
    "import pandas as pd\n",
    "import os\n",
    "import matplotlib.pyplot as plt\n",
    "import numpy as np\n",
    "import tkinter.filedialog as fd\n",
    "from sys import exit\n",
    "import re\n",
    "import statistics as stats\n",
    "from tkinter import *"
   ]
  },
  {
   "cell_type": "code",
   "execution_count": 34,
   "id": "194c4183",
   "metadata": {},
   "outputs": [
    {
     "name": "stdout",
     "output_type": "stream",
     "text": [
      "C:/Users/ACX25632/Desktop/ADMIN/apprentice/Apprentice_PML_Projects\n",
      "There are 4 files in the path given:\n",
      "['BEE.txt', 'current (3).ipynb.txt', 'EdmundOptics.txt', 'python_unsplit.txt']\n"
     ]
    }
   ],
   "source": [
    "def askdirectorypath():\n",
    "    \n",
    "    root = Tk()\n",
    "    root.wm_withdraw()\n",
    "    root.wm_attributes('-topmost', 1)\n",
    "    path = fd.askdirectory()\n",
    "    root.update()\n",
    "    root.destroy()\n",
    "    return path\n",
    "\n",
    "def read_in():\n",
    "    file_num = int(input(\"Enter file number/s to read in seperated by commas e.g. 1,2,3: \"))\n",
    "    dir = folder_path + \"/\" + file_dict[file_num]\n",
    "    df=pd.read_fwf(dir)\n",
    "    print(df.head(35))\n",
    "    return(df)\n",
    "\n",
    " ########################################################################################\n",
    "#Find the files in the directory, list them and extract data from them one by one\n",
    "#####################################################################################\n",
    "\n",
    "folder_path = askdirectorypath()\n",
    "print(folder_path)\n",
    "\n",
    "fileList=os.listdir(folder_path)\n",
    "fileList=[x for x in fileList if x[-4:]==\".txt\"]\n",
    "print(\"There are \"+str(len(fileList)) + \" files in the path given:\")\n",
    "print(fileList)"
   ]
  },
  {
   "cell_type": "code",
   "execution_count": 35,
   "id": "1d535ccc",
   "metadata": {},
   "outputs": [
    {
     "name": "stdout",
     "output_type": "stream",
     "text": [
      "1  :  BEE.txt\n",
      "2  :  current (3).ipynb.txt\n",
      "3  :  EdmundOptics.txt\n",
      "4  :  python_unsplit.txt\n",
      "Enter file number: 4\n",
      "file_name=  python_unsplit.txt\n"
     ]
    }
   ],
   "source": [
    "key_idx_lst=list(np.arange(1,len(fileList)+1))\n",
    "#now zip lists!!****\n",
    "file_dict = dict(zip(key_idx_lst,fileList)) \n",
    "#print(PSD_file_dict)\n",
    "# Iterate over key/value pairs in dict and print them\n",
    "\n",
    "for key, value in file_dict.items():\n",
    "    print(key, ' : ', value)\n",
    "#Enter filename\n",
    "file_num = int(input(\"Enter file number: \"))\n",
    " \n",
    "dir = folder_path +\"/\"+ file_dict[file_num]\n",
    "print(\"file_name= \",file_dict[file_num])"
   ]
  },
  {
   "cell_type": "code",
   "execution_count": 36,
   "id": "8a3b4e2a",
   "metadata": {},
   "outputs": [
    {
     "name": "stdout",
     "output_type": "stream",
     "text": [
      "Enter file number/s to read in seperated by commas e.g. 1,2,3: 4\n",
      "   Demand angle (degrees)\\tMeasured  angle  (degrees)\n",
      "0          33.31805267\\t33.31805267    NaN        NaN\n",
      "1          33.33900743\\t33.33892908    NaN        NaN\n",
      "2          33.35996218\\t33.35980766    NaN        NaN\n",
      "3          33.38091693\\t33.38090724    NaN        NaN\n",
      "4          33.40187168\\t33.40181232    NaN        NaN\n",
      "5          33.42282643\\t33.42258221    NaN        NaN\n",
      "6          33.44378118\\t33.44365875    NaN        NaN\n",
      "7          33.46473593\\t33.46450878    NaN        NaN\n",
      "8          33.48569068\\t33.48533813    NaN        NaN\n",
      "9          33.50664543\\t33.50620828    NaN        NaN\n",
      "10          33.52760018\\t33.5271995    NaN        NaN\n",
      "11         33.54855493\\t33.54799898    NaN        NaN\n",
      "12          33.56950968\\t33.5690304    NaN        NaN\n",
      "13         33.59046443\\t33.58993278    NaN        NaN\n",
      "14         33.61141918\\t33.61078064    NaN        NaN\n",
      "15          33.63237393\\t33.6317018    NaN        NaN\n",
      "16          33.65332868\\t33.6526505    NaN        NaN\n",
      "17         33.67428343\\t33.67371039    NaN        NaN\n",
      "18         33.69523818\\t33.69462948    NaN        NaN\n",
      "19          33.71619293\\t33.7152696    NaN        NaN\n",
      "20         33.73714768\\t33.73629255    NaN        NaN\n",
      "21         33.73714768\\t33.73626359    NaN        NaN\n",
      "22         33.71619293\\t33.71547515    NaN        NaN\n",
      "23         33.69523818\\t33.69461728    NaN        NaN\n",
      "24         33.67428343\\t33.67366784    NaN        NaN\n",
      "25         33.65332868\\t33.65276714    NaN        NaN\n",
      "26         33.63237393\\t33.63176315    NaN        NaN\n",
      "27         33.61141918\\t33.61080471    NaN        NaN\n",
      "28         33.59046443\\t33.58997428    NaN        NaN\n",
      "29         33.56950968\\t33.56924035    NaN        NaN\n",
      "30         33.54855493\\t33.54814032    NaN        NaN\n",
      "31         33.52760018\\t33.52731897    NaN        NaN\n",
      "32         33.50664543\\t33.50640936    NaN        NaN\n",
      "33         33.48569068\\t33.48547198    NaN        NaN\n",
      "34         33.46473593\\t33.46474542    NaN        NaN\n"
     ]
    }
   ],
   "source": [
    "#Choose files from the list above to be read in\n",
    "df=read_in()\n"
   ]
  },
  {
   "cell_type": "code",
   "execution_count": 37,
   "id": "07fb6898",
   "metadata": {},
   "outputs": [
    {
     "name": "stdout",
     "output_type": "stream",
     "text": [
      "how many rows should be skipped?0\n",
      "     Demand angle (degrees)  Measured angle (degrees)  Unnamed: 2  Unnamed: 3  \\\n",
      "0                 33.318053                 33.318053         NaN         NaN   \n",
      "1                 33.339007                 33.338929         NaN         NaN   \n",
      "2                 33.359962                 33.359808         NaN         NaN   \n",
      "3                 33.380917                 33.380907         NaN         NaN   \n",
      "4                 33.401872                 33.401812         NaN         NaN   \n",
      "..                      ...                       ...         ...         ...   \n",
      "205               33.401872                 33.401686         NaN         NaN   \n",
      "206               33.380917                 33.380798         NaN         NaN   \n",
      "207               33.359962                 33.359954         NaN         NaN   \n",
      "208               33.339007                 33.339026         NaN         NaN   \n",
      "209               33.318053                 33.317981         NaN         NaN   \n",
      "\n",
      "     Unnamed: 4  Unnamed: 5  \n",
      "0           NaN         NaN  \n",
      "1           NaN         NaN  \n",
      "2           NaN         NaN  \n",
      "3           NaN         NaN  \n",
      "4           NaN         NaN  \n",
      "..          ...         ...  \n",
      "205         NaN         NaN  \n",
      "206         NaN         NaN  \n",
      "207         NaN         NaN  \n",
      "208         NaN         NaN  \n",
      "209         NaN         NaN  \n",
      "\n",
      "[210 rows x 6 columns]\n"
     ]
    }
   ],
   "source": [
    "skip_rows=int(input(\"how many rows should be skipped?\"))\n",
    "df_lst=pd.read_table(dir,skiprows=skip_rows) # find number of rows to skip from above ,if delimiter not /t, then enter seperator as: delimiter = \" \" etc\n",
    "print(df_lst)"
   ]
  },
  {
   "cell_type": "code",
   "execution_count": 38,
   "id": "665ff0f6",
   "metadata": {},
   "outputs": [
    {
     "name": "stdout",
     "output_type": "stream",
     "text": [
      "   Demand angle (degrees)  Measured angle (degrees)  Demand (urad)  \\\n",
      "0               33.318053                 33.318053  581509.719444   \n",
      "1               33.339007                 33.338929  581875.449000   \n",
      "2               33.359962                 33.359808  582241.178382   \n",
      "3               33.380917                 33.380907  582606.907763   \n",
      "4               33.401872                 33.401812  582972.637145   \n",
      "\n",
      "   Measured (urad)  Error (urad)  \n",
      "0    581509.719444      0.000000  \n",
      "1    581874.081535     -1.367465  \n",
      "2    582238.481499     -2.696883  \n",
      "3    582606.738641     -0.169122  \n",
      "4    582971.601117     -1.036027  \n"
     ]
    }
   ],
   "source": [
    "df_lst=df_lst.iloc[:,:2].copy()\n",
    "\n",
    "df_lst[\"Demand (urad)\"]=1E06*np.radians(df_lst[\"Demand angle (degrees)\"])\n",
    "df_lst[\"Measured (urad)\"]=1E06*np.radians(df_lst[\"Measured angle (degrees)\"])\n",
    "df_lst[\"Error (urad)\"]=df_lst[\"Measured (urad)\"]-df_lst[\"Demand (urad)\"]\n",
    "print(df_lst.head())"
   ]
  },
  {
   "cell_type": "code",
   "execution_count": 39,
   "id": "6a1a98a9",
   "metadata": {},
   "outputs": [
    {
     "name": "stdout",
     "output_type": "stream",
     "text": [
      "   Demand angle (degrees)  Measured angle (degrees)  Demand (urad)  \\\n",
      "0               33.318053                 33.318053  581509.719444   \n",
      "1               33.339007                 33.338929  581875.449000   \n",
      "2               33.359962                 33.359808  582241.178382   \n",
      "3               33.380917                 33.380907  582606.907763   \n",
      "4               33.401872                 33.401812  582972.637145   \n",
      "\n",
      "   Measured (urad)  Error (urad) Direction  \n",
      "0    581509.719444      0.000000   forward  \n",
      "1    581874.081535     -1.367465   forward  \n",
      "2    582238.481499     -2.696883   forward  \n",
      "3    582606.738641     -0.169122   forward  \n",
      "4    582971.601117     -1.036027   forward  \n",
      "    Demand angle (degrees)  Measured angle (degrees)  Demand (urad)  \\\n",
      "38               33.380917                 33.381007  582606.907763   \n",
      "39               33.359962                 33.359889  582241.178382   \n",
      "40               33.339007                 33.338922  581875.449000   \n",
      "41               33.318053                 33.317979  581509.719444   \n",
      "42               33.318053                 33.317933  581509.719444   \n",
      "43               33.339007                 33.338868  581875.449000   \n",
      "44               33.359962                 33.359798  582241.178382   \n",
      "\n",
      "    Measured (urad)  Error (urad) Direction  \n",
      "38    582608.486937      1.579174  backward  \n",
      "39    582239.894169     -1.284213  backward  \n",
      "40    581873.950984     -1.498016  backward  \n",
      "41    581508.438896     -1.280548  backward  \n",
      "42    581507.638663     -2.080782   forward  \n",
      "43    581873.012346     -2.436654   forward  \n",
      "44    582238.315518     -2.862864   forward  \n",
      "    Demand angle (degrees)  Measured angle (degrees)  Demand (urad)  \\\n",
      "80               33.380917                 33.381021  582606.907763   \n",
      "81               33.359962                 33.359895  582241.178382   \n",
      "82               33.339007                 33.338997  581875.449000   \n",
      "83               33.318053                 33.318126  581509.719444   \n",
      "84               33.318053                 33.318075  581509.719444   \n",
      "85               33.339007                 33.338828  581875.449000   \n",
      "\n",
      "    Measured (urad)  Error (urad) Direction  \n",
      "80    582608.725873      1.818109  backward  \n",
      "81    582240.008313     -1.170069  backward  \n",
      "82    581875.268708     -0.180293  backward  \n",
      "83    581510.992313      1.272869  backward  \n",
      "84    581510.102544      0.383100   forward  \n",
      "85    581872.310200     -3.138800   forward  \n"
     ]
    }
   ],
   "source": [
    "#generate scan direction pattern map\n",
    "fwd,bwd=[\"forward\"],[\"backward\"]\n",
    "scan_fwd=fwd*21\n",
    "scan_bwd=bwd*21\n",
    "one_scan=scan_fwd+scan_bwd\n",
    "total_scan=one_scan*5\n",
    "#print(total_scan)\n",
    "df_lst[\"Direction\"]=total_scan\n",
    "print(df_lst.head())\n",
    "print(df_lst.iloc[38:45])\n",
    "print(df_lst.iloc[80:86])"
   ]
  },
  {
   "cell_type": "code",
   "execution_count": 40,
   "id": "2a444cba",
   "metadata": {},
   "outputs": [
    {
     "name": "stdout",
     "output_type": "stream",
     "text": [
      "2\n",
      "42\n"
     ]
    }
   ],
   "source": [
    "#test whether the numbers are as expected\n",
    "print(df_lst.groupby('Direction').ngroups)#get_group('forward')#.groups.keys()#.get_group('forward') #.groups.keys().groups,.ngroups\n",
    "print(df_lst.groupby(['Direction','Demand angle (degrees)']).ngroups)"
   ]
  },
  {
   "cell_type": "code",
   "execution_count": 41,
   "id": "a6a9e106",
   "metadata": {},
   "outputs": [
    {
     "name": "stdout",
     "output_type": "stream",
     "text": [
      "Direction  Demand (urad)\n",
      "backward   581509.719444    -0.800932\n",
      "           581875.449000    -0.626503\n",
      "           582241.178382    -1.475257\n",
      "           582606.907763     0.091071\n",
      "           582972.637145    -1.569889\n",
      "           583338.366526    -3.030276\n",
      "           583704.095908    -2.074079\n",
      "           584069.825289    -1.657644\n",
      "           584435.554670    -4.369153\n",
      "           584801.284052    -4.252599\n",
      "           585167.013433    -5.810725\n",
      "           585532.742815    -7.112636\n",
      "           585898.472196    -7.608972\n",
      "           586264.201578    -9.493474\n",
      "           586629.930959    -9.646086\n",
      "           586995.660340   -10.068176\n",
      "           587361.389722   -12.145432\n",
      "           587727.119103   -12.940011\n",
      "           588092.848485   -12.734481\n",
      "           588458.577866   -15.394886\n",
      "           588824.307248   -17.440970\n",
      "forward    581509.719444    -0.752307\n",
      "           581875.449000    -2.521931\n",
      "           582241.178382    -3.120684\n",
      "           582606.907763    -2.729451\n",
      "           582972.637145    -4.180378\n",
      "           583338.366526    -5.492412\n",
      "           583704.095908    -5.295364\n",
      "           584069.825289    -6.058736\n",
      "           584435.554670    -6.949727\n",
      "           584801.284052    -6.907874\n",
      "           585167.013433    -8.961952\n",
      "           585532.742815   -10.477979\n",
      "           585898.472196   -10.403384\n",
      "           586264.201578   -11.920599\n",
      "           586629.930959   -13.199681\n",
      "           586995.660340   -13.481761\n",
      "           587361.389722   -14.402108\n",
      "           587727.119103   -14.305103\n",
      "           588092.848485   -14.314108\n",
      "           588458.577866   -17.096443\n",
      "           588824.307248   -16.996121\n",
      "Name: Error (urad), dtype: float64\n"
     ]
    }
   ],
   "source": [
    "# seperate into forward/backward direction AND Demand (urad) with groupby  ['Direction','Demand (urad)'] \n",
    "#this sorts out same scan values into numeric order...and then..\n",
    "#find the mean of the ['Error (urad)'] of each group of same scan values \n",
    "averages=df_lst.groupby(['Direction','Demand (urad)'])['Error (urad)'].mean()\n",
    "#print out the values\n",
    "print(averages)\n"
   ]
  },
  {
   "cell_type": "code",
   "execution_count": 42,
   "id": "59348fb5",
   "metadata": {},
   "outputs": [
    {
     "name": "stdout",
     "output_type": "stream",
     "text": [
      "-0.8009315937990322\n"
     ]
    }
   ],
   "source": [
    "##Check that you can recall each value correctly\n",
    "print(averages.iloc[0])\n",
    "### check the number of points in avearge is correct\n",
    "#m=int(df_lst.shape[0]/5)\n",
    "#print(df_lst.iloc[0,0])\n",
    "#print (m)"
   ]
  },
  {
   "cell_type": "code",
   "execution_count": 29,
   "id": "f43529a9",
   "metadata": {},
   "outputs": [
    {
     "name": "stdout",
     "output_type": "stream",
     "text": [
      "[170.80446885899516, 170.03710159152132, 174.38564341746803, 166.65877574779375, 175.06834967758073, 182.47505741941993, 177.79885074923746, 175.8214467021379, 189.48376354827047, 189.00577186107353, 196.9011717930616, 203.51550005469622, 206.1019574679052, 215.6292402510217, 216.49707194981028, 218.71229783082927, 229.20335142667238, 233.26006340268913, 232.27432303953168, 245.57634993359164, 255.7648623770653, 172.23772450435274, 180.98107193012802, 183.8700614454444, 181.80912266996808, 188.95898448867624, 195.4143797982266, 194.32436768554086, 198.0364544772422, 202.38663364244127, 202.07259491530462, 212.23821114873513, 219.71357687297993, 219.23582626201716, 226.71712610606852, 233.00776233383056, 234.31338915198896, 238.8103504978434, 238.2415044888159, 238.2446244832617, 252.15629488530334, 251.69659675827748]\n",
      "42.0\n"
     ]
    }
   ],
   "source": [
    "#### unidirectional axis repeatability computation\n",
    "r_lst=[]\n",
    "m=int(df_lst.shape[0]/5) # find the number of values to loop over\n",
    "\n",
    "##### go back to original dataframe df_lst, and create a series of each scan-point-group and \n",
    "#####subtract the matching mean value from 'averages.iloc[j]' from each one \n",
    "##### of the same scan values df.iloc[j:j+5,0] and give the series a pointer 'q'\n",
    "for j in range(m):\n",
    "    ####tests  \n",
    "    #print(df_lst.iloc[j:j+5,0],averages.iloc[j] )\n",
    "    q=df_lst.iloc[j:j+5,0]-averages.iloc[j]       # series of same-scan-vals\n",
    "    #print(\"q\",q)\n",
    "    r=q.sum()                                  # sum up the series and append to the list r_lst\n",
    "    r_lst.append(r)\n",
    "    #print(q)\n",
    "    #print(r)\n",
    "print(r_lst)   \n",
    "\n",
    "#p=[df_lst.iloc[:5,0]-averages.iloc[0+j]]#df.iloc[::3, :]#every 3 rows\n",
    "print(df_lst.shape[0]/5)"
   ]
  },
  {
   "cell_type": "code",
   "execution_count": 32,
   "id": "ec59c937",
   "metadata": {},
   "outputs": [
    {
     "name": "stdout",
     "output_type": "stream",
     "text": [
      "   Direction  Demand (urad)  fwd Error (urad)   bwd Error (urad) \n",
      "0   backward  581509.719444          -0.800932                NaN\n",
      "1   backward  581875.449000          -0.626503                NaN\n",
      "2   backward  582241.178382          -1.475257                NaN\n",
      "3   backward  582606.907763           0.091071                NaN\n",
      "4   backward  582972.637145          -1.569889                NaN\n",
      "5   backward  583338.366526          -3.030276                NaN\n",
      "6   backward  583704.095908          -2.074079                NaN\n",
      "7   backward  584069.825289          -1.657644                NaN\n",
      "8   backward  584435.554670          -4.369153                NaN\n",
      "9   backward  584801.284052          -4.252599                NaN\n",
      "10  backward  585167.013433          -5.810725                NaN\n",
      "11  backward  585532.742815          -7.112636                NaN\n",
      "12  backward  585898.472196          -7.608972                NaN\n",
      "13  backward  586264.201578          -9.493474                NaN\n",
      "14  backward  586629.930959          -9.646086                NaN\n",
      "15  backward  586995.660340         -10.068176                NaN\n",
      "16  backward  587361.389722         -12.145432                NaN\n",
      "17  backward  587727.119103         -12.940011                NaN\n",
      "18  backward  588092.848485         -12.734481                NaN\n",
      "19  backward  588458.577866         -15.394886                NaN\n",
      "20  backward  588824.307248         -17.440970                NaN\n",
      "21   forward  581509.719444                NaN          -0.752307\n",
      "22   forward  581875.449000                NaN          -2.521931\n",
      "23   forward  582241.178382                NaN          -3.120684\n",
      "24   forward  582606.907763                NaN          -2.729451\n",
      "25   forward  582972.637145                NaN          -4.180378\n",
      "26   forward  583338.366526                NaN          -5.492412\n",
      "27   forward  583704.095908                NaN          -5.295364\n",
      "28   forward  584069.825289                NaN          -6.058736\n",
      "29   forward  584435.554670                NaN          -6.949727\n",
      "30   forward  584801.284052                NaN          -6.907874\n",
      "31   forward  585167.013433                NaN          -8.961952\n",
      "32   forward  585532.742815                NaN         -10.477979\n",
      "33   forward  585898.472196                NaN         -10.403384\n",
      "34   forward  586264.201578                NaN         -11.920599\n",
      "35   forward  586629.930959                NaN         -13.199681\n",
      "36   forward  586995.660340                NaN         -13.481761\n",
      "37   forward  587361.389722                NaN         -14.402108\n",
      "38   forward  587727.119103                NaN         -14.305103\n",
      "39   forward  588092.848485                NaN         -14.314108\n",
      "40   forward  588458.577866                NaN         -17.096443\n",
      "41   forward  588824.307248                NaN         -16.996121\n"
     ]
    }
   ],
   "source": [
    "#construct dataframe\n",
    "frame={\"fwd Error (urad) \":averages[:21],\"bwd Error (urad) \":averages[21:]}\n",
    "df2=pd.DataFrame(frame).reset_index()\n",
    "print(df2)"
   ]
  },
  {
   "cell_type": "code",
   "execution_count": 43,
   "id": "f41f821b",
   "metadata": {},
   "outputs": [
    {
     "name": "stdout",
     "output_type": "stream",
     "text": [
      "    Demand (urad)  fwd Error (urad)   bwd Error (urad) \n",
      "0   581509.719444          -0.800932          -0.752307\n",
      "1   581875.449000          -0.626503          -2.521931\n",
      "2   582241.178382          -1.475257          -3.120684\n",
      "3   582606.907763           0.091071          -2.729451\n",
      "4   582972.637145          -1.569889          -4.180378\n",
      "5   583338.366526          -3.030276          -5.492412\n",
      "6   583704.095908          -2.074079          -5.295364\n",
      "7   584069.825289          -1.657644          -6.058736\n",
      "8   584435.554670          -4.369153          -6.949727\n",
      "9   584801.284052          -4.252599          -6.907874\n",
      "10  585167.013433          -5.810725          -8.961952\n",
      "11  585532.742815          -7.112636         -10.477979\n",
      "12  585898.472196          -7.608972         -10.403384\n",
      "13  586264.201578          -9.493474         -11.920599\n",
      "14  586629.930959          -9.646086         -13.199681\n",
      "15  586995.660340         -10.068176         -13.481761\n",
      "16  587361.389722         -12.145432         -14.402108\n",
      "17  587727.119103         -12.940011         -14.305103\n",
      "18  588092.848485         -12.734481         -14.314108\n",
      "19  588458.577866         -15.394886         -17.096443\n",
      "20  588824.307248         -17.440970         -16.996121\n"
     ]
    }
   ],
   "source": [
    "frame1={\"Demand (urad)\":df2.iloc[:21,1].reset_index(drop=True),\"fwd Error (urad) \":df2.iloc[:21,2].reset_index(drop=True),\"bwd Error (urad) \":df2.iloc[21:,3].reset_index(drop=True)}\n",
    "#df3=pd.DataFrame(frame1).reset_index(drop=True)\n",
    "df3=pd.DataFrame(frame1)\n",
    "print(df3)\n",
    "a_lst=list()\n"
   ]
  },
  {
   "cell_type": "code",
   "execution_count": 12,
   "id": "92dd529c",
   "metadata": {},
   "outputs": [
    {
     "name": "stdout",
     "output_type": "stream",
     "text": [
      "['__class__', '__contains__', '__delattr__', '__delitem__', '__dir__', '__doc__', '__eq__', '__format__', '__ge__', '__getattribute__', '__getitem__', '__gt__', '__hash__', '__init__', '__init_subclass__', '__iter__', '__le__', '__len__', '__lt__', '__ne__', '__new__', '__reduce__', '__reduce_ex__', '__repr__', '__setattr__', '__setitem__', '__sizeof__', '__str__', '__subclasshook__', 'clear', 'copy', 'fromkeys', 'get', 'items', 'keys', 'pop', 'popitem', 'setdefault', 'update', 'values']\n"
     ]
    }
   ],
   "source": [
    "df.groupby('region').get_group('North-West')"
   ]
  },
  {
   "cell_type": "code",
   "execution_count": null,
   "id": "b4980000",
   "metadata": {},
   "outputs": [],
   "source": [
    "#df.sort_value('col1', ascending=False)\n",
    "#df_lst.reset_index(name='Demand angle (degrees)')"
   ]
  }
 ],
 "metadata": {
  "kernelspec": {
   "display_name": "Python 3",
   "language": "python",
   "name": "python3"
  },
  "language_info": {
   "codemirror_mode": {
    "name": "ipython",
    "version": 3
   },
   "file_extension": ".py",
   "mimetype": "text/x-python",
   "name": "python",
   "nbconvert_exporter": "python",
   "pygments_lexer": "ipython3",
   "version": "3.7.3"
  }
 },
 "nbformat": 4,
 "nbformat_minor": 5
}
